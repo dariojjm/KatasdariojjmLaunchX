{
 "cells": [
  {
   "cell_type": "markdown",
   "metadata": {},
   "source": [
    "# Ejercicio: Uso de funciones en Python\n",
    "Ejercicio 1: Trabajar con argumentos en funciones\n",
    "Los argumentos requeridos en las funciones se utilizan cuando las funciones necesitan que esos argumentos funcionen correctamente. En este ejercicio, construirás un informe de combustible que requiere información de varias ubicaciones de combustible en todo el cohete.\n",
    "\n",
    "TIP Dedica unos minutos para tratar de encontrar una solución. Luego desplázate hacia abajo hasta la parte inferior para ver si has logrado compilar el programa de acuerdo con las especificaciones\n",
    "\n",
    "Comienza por crear una función que necesite tres lecturas de combustible y devuelva un informe:"
   ]
  },
  {
   "cell_type": "code",
   "execution_count": 14,
   "metadata": {},
   "outputs": [],
   "source": [
    "# Función para leer 3 tanques de combustible y muestre el promedio\n",
    "def funcion(tanque,tanque2,tanque3):\n",
    "    promedio=(tanque+tanque2+tanque3)/3\n",
    "\n",
    "    return f\" Informe \\n tanque 1: {tanque} \\n tanque 2: {tanque2} \\n tanque 3: {tanque3} \\n promedio : {promedio}\""
   ]
  },
  {
   "cell_type": "markdown",
   "metadata": {},
   "source": [
    "Ahora que hemos definido la función de informes, vamos a comprobarlo. Para esta misión, los tanques no están llenos:\n",
    "\n"
   ]
  },
  {
   "cell_type": "code",
   "execution_count": 15,
   "metadata": {},
   "outputs": [
    {
     "name": "stdout",
     "output_type": "stream",
     "text": [
      " Informe \n",
      " tanque 1: 10 \n",
      " tanque 2: 20 \n",
      " tanque 3: 30 \n",
      " promedio : 20.0\n"
     ]
    }
   ],
   "source": [
    "# Llamamos a la función que genera el reporte print(funcion(tanque1, tanque2, tanque3))\n",
    "print(funcion(10, 20, 30))"
   ]
  },
  {
   "cell_type": "markdown",
   "metadata": {},
   "source": [
    "En lugar de simplemente crear el informe, la función también está calculando el promedio. Mejora la legibilidad extrayendo el cálculo promedio de la función en una nueva función para que el promedio se pueda hacer de forma independiente:"
   ]
  },
  {
   "cell_type": "code",
   "execution_count": 19,
   "metadata": {},
   "outputs": [
    {
     "name": "stdout",
     "output_type": "stream",
     "text": [
      "21.666666666666668\n"
     ]
    }
   ],
   "source": [
    "# Función promedio \n",
    "def funcion2(values):\n",
    "    promedio=sum(values)\n",
    "    promedio=promedio/len(values)\n",
    "    return promedio\n",
    "    \n",
    "    \n",
    "print(funcion2([20,40,5]))"
   ]
  },
  {
   "cell_type": "markdown",
   "metadata": {},
   "source": [
    "Ahora actualiza la función de informes para llamando a la nueva función del promedio:\n",
    "\n"
   ]
  },
  {
   "cell_type": "code",
   "execution_count": 22,
   "metadata": {},
   "outputs": [
    {
     "name": "stdout",
     "output_type": "stream",
     "text": [
      " Informe \n",
      " tanque 1: 20 \n",
      " tanque 2: 40 \n",
      " tanque 3: 60 \n",
      " promedio : 40.0\n"
     ]
    }
   ],
   "source": [
    "def funcion(tanque,tanque2,tanque3):\n",
    "    return f\" Informe \\n tanque 1: {tanque} \\n tanque 2: {tanque2} \\n tanque 3: {tanque3} \\n promedio : {funcion2([tanque,tanque2,tanque3])}\"\n",
    "   \n",
    "   \n",
    "print(funcion(20,40,60))"
   ]
  },
  {
   "cell_type": "markdown",
   "metadata": {},
   "source": [
    "# Ejercicio 2: Trabajo con argumentos de palabra clave\n",
    "Ejercicio : Trabajar con argumentos de palabras clave en funciones\n",
    "En este ejercicio, construirás un informe de cohete que requiere varias piezas de información, como el tiempo hasta el destino, el combustible a la izquierda y el nombre del destino. Comienza por crear una función que creará un informe preciso de la misión:"
   ]
  },
  {
   "cell_type": "code",
   "execution_count": 32,
   "metadata": {},
   "outputs": [
    {
     "name": "stdout",
     "output_type": "stream",
     "text": [
      "Destino Marte \n",
      " Total travel time: 520 minutos \n",
      " Total de conbustible: 450000 litros\n"
     ]
    }
   ],
   "source": [
    "\n",
    "# Función con un informe preciso de la misión. Considera hora de prelanzamiento, tiempo de vuelo, destino, tanque externo y tanque interno\n",
    "\n",
    "def informe(lanzamiento, vuelo, destino, tanque_externo, tanque_interno):\n",
    "    return f\"Destino {destino} \\n Tiempo de vuelo: {lanzamiento + vuelo} minutos \\n Total de conbustible: {tanque_externo + tanque_interno} litros\"\n",
    "\n",
    "print(informe(20, 500, \"Marte\", 400000, 50000))"
   ]
  },
  {
   "cell_type": "markdown",
   "metadata": {},
   "source": [
    "La función es problemática porque no se puede adaptar para minutos adicionales o tanques adicionales de combustible. Hazlo más flexible permitiendo cualquier número de pasos basados en el tiempo y cualquier número de tanques. En lugar de usar *args y **kwargs, aprovecha el hecho de que puedes usar cualquier nombre que desees. Asegurate que la función sea más legible mediante el uso de nombres de variables que están asociados con las entradas, como *minutes y **fuel_reservoirs:"
   ]
  },
  {
   "cell_type": "code",
   "execution_count": 6,
   "metadata": {},
   "outputs": [
    {
     "name": "stdout",
     "output_type": "stream",
     "text": [
      "\n",
      "    Destino Marte\n",
      "    Tiempo estimado: 45 minutos\n",
      "    Conbustible: 1050000\n",
      "    \n"
     ]
    }
   ],
   "source": [
    "# Escribe tu nueva función de reporte considerando lo anterior\n",
    "\n",
    "\n",
    "def informes(destino, *tiempo, **conbustible):\n",
    "    return f\"\"\"\n",
    "    Destino {destino}\n",
    "    Tiempo estimado: {sum(tiempo)} minutos\n",
    "    Conbustible: {sum(conbustible.values())}\n",
    "    \"\"\"\n",
    "print(informes(\"Marte\", 15, 15, 15, interno=600000, externo=450000))"
   ]
  },
  {
   "cell_type": "markdown",
   "metadata": {},
   "source": [
    "Debido a que el combustible que queda en los tanques es específico de cada tanque, actualiza la función para usar el nombre de cada tanque en el informe:\n",
    "\n"
   ]
  },
  {
   "cell_type": "code",
   "execution_count": 13,
   "metadata": {},
   "outputs": [
    {
     "name": "stdout",
     "output_type": "stream",
     "text": [
      "\n",
      "    Destino Marte\n",
      "    Tiempo estimado: 45 minutos\n",
      "    Conbustible: 1050000\n",
      "    interno : 600000\n",
      "    externo : 450000\n",
      "    \n"
     ]
    }
   ],
   "source": [
    "# Escribe tu nueva función\n",
    "\n",
    "\n",
    "def informesN(destino, *tiempo, **conbustible):\n",
    "    informe= f\"\"\"\n",
    "    Destino {destino}\n",
    "    Tiempo estimado: {sum(tiempo)} minutos\n",
    "    Conbustible: {sum(conbustible.values())}\n",
    "    \"\"\"\n",
    "    \n",
    "    for titulo,cantidad in conbustible.items():\n",
    "        informe+=titulo +\" : \"+str(cantidad)+\"\\n    \"\n",
    "    return informe\n",
    "print(informesN(\"Marte\", 15, 15, 15, interno=600000, externo=450000))\n",
    "\n",
    "\n"
   ]
  }
 ],
 "metadata": {
  "interpreter": {
   "hash": "ef49e1d134b300968cd1faf0d87a81163903e70a5bd8308670759b0ce6c09015"
  },
  "kernelspec": {
   "display_name": "Python 3.9.0 64-bit",
   "language": "python",
   "name": "python3"
  },
  "language_info": {
   "codemirror_mode": {
    "name": "ipython",
    "version": 3
   },
   "file_extension": ".py",
   "mimetype": "text/x-python",
   "name": "python",
   "nbconvert_exporter": "python",
   "pygments_lexer": "ipython3",
   "version": "3.9.0"
  },
  "orig_nbformat": 4
 },
 "nbformat": 4,
 "nbformat_minor": 2
}
